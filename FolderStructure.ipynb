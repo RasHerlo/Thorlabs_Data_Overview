{
 "cells": [
  {
   "cell_type": "code",
   "execution_count": 3,
   "id": "95642036",
   "metadata": {},
   "outputs": [
    {
     "data": {
      "text/plain": [
       "'C:\\\\Users\\\\svw191\\\\JupyterNotebookFiles'"
      ]
     },
     "execution_count": 3,
     "metadata": {},
     "output_type": "execute_result"
    }
   ],
   "source": [
    "import os\n",
    "os.getcwd()"
   ]
  },
  {
   "cell_type": "code",
   "execution_count": null,
   "id": "ed87a11e",
   "metadata": {},
   "outputs": [],
   "source": [
    "import os\n",
    "import networkx as nx\n",
    "import matplotlib.pyplot as plt\n",
    "\n",
    "def visualize_folder_structure(root_dir):\n",
    "    \"\"\"\n",
    "    Visualizes the folder structure of a given root directory.\n",
    "\n",
    "    Args:\n",
    "        root_dir: The root directory to visualize.\n",
    "    \"\"\"\n",
    "\n",
    "    G = nx.DiGraph()\n",
    "    dummy_root = \"Root\"\n",
    "\n",
    "    def add_nodes_and_edges(parent_node, current_dir):\n",
    "        G.add_node(current_dir)\n",
    "        G.add_edge(parent_node, current_dir)\n",
    "\n",
    "        for child_dir in os.listdir(current_dir):\n",
    "            child_path = os.path.join(current_dir, child_dir)\n",
    "            if os.path.isdir(child_path):\n",
    "                add_nodes_and_edges(current_dir, child_path)\n",
    "\n",
    "    add_nodes_and_edges(dummy_root, root_dir)\n",
    "\n",
    "    # Visualize the graph\n",
    "    plt.figure(figsize=(10, 8))\n",
    "    pos = nx.spring_layout(G, seed=42)\n",
    "    nx.draw(G, pos, node_size=500, node_color='lightblue', with_labels=True, font_size=10)\n",
    "    plt.title(\"Folder Structure\")\n",
    "    plt.show()\n",
    "\n",
    "# Example usage:\n",
    "root_directory = \"C:\\\\Users\\\\svw191\\\\PythonFiles\\\\PythonTrial\\\\LED +APs 240926\"\n",
    "visualize_folder_structure(root_directory)"
   ]
  },
  {
   "cell_type": "code",
   "execution_count": null,
   "id": "22569d2a",
   "metadata": {},
   "outputs": [],
   "source": [
    "conda install --channel conda-forge pygraphviz"
   ]
  },
  {
   "cell_type": "code",
   "execution_count": 4,
   "id": "02524542",
   "metadata": {},
   "outputs": [],
   "source": [
    "import pygraphviz as pgv\n",
    "import os\n",
    "\n",
    "def visualize_folder_structure(root_dir):\n",
    "    G = pgv.AGraph(directed=True)\n",
    "    G.node_attr['shape'] = 'box'\n",
    "    G.node_attr['style'] = 'filled'\n",
    "    G.node_attr['fillcolor'] = 'lightblue'\n",
    "\n",
    "    def add_nodes_and_edges(parent_node, current_dir):\n",
    "        G.add_node(current_dir)\n",
    "        G.add_edge(parent_node, current_dir)\n",
    "\n",
    "        for child_dir in os.listdir(current_dir):\n",
    "            child_path = os.path.join(current_dir, child_dir)\n",
    "            if os.path.isdir(child_path):\n",
    "                add_nodes_and_edges(current_dir, child_path)\n",
    "\n",
    "    add_nodes_and_edges(None, root_dir)\n",
    "    G.layout(prog='dot')\n",
    "    G.draw('folder_structure.png')\n",
    "\n",
    "# Example usage:\n",
    "root_dir = \"C:\\\\Users\\\\svw191\\\\PythonFiles\\\\PythonTrial\\\\LED +APs 240926\"\n",
    "visualize_folder_structure(root_dir)"
   ]
  },
  {
   "cell_type": "code",
   "execution_count": 6,
   "id": "d9774c5d",
   "metadata": {},
   "outputs": [
    {
     "data": {
      "text/plain": [
       "'C:\\\\Users\\\\svw191\\\\JupyterNotebookFiles'"
      ]
     },
     "execution_count": 6,
     "metadata": {},
     "output_type": "execute_result"
    }
   ],
   "source": [
    "os.getcwd()"
   ]
  },
  {
   "cell_type": "code",
   "execution_count": 7,
   "id": "8de4b1cf",
   "metadata": {},
   "outputs": [],
   "source": [
    "# find the file at:\n",
    "# C:\\Users\\svw191\\JupyterNotebookFiles"
   ]
  },
  {
   "cell_type": "code",
   "execution_count": 8,
   "id": "f3a275ef",
   "metadata": {},
   "outputs": [],
   "source": [
    "# pygraphviz dowload with:\n",
    "# conda install --channel conda-forge pygraphviz\n",
    "# https://pygraphviz.github.io/documentation/stable/install.html"
   ]
  },
  {
   "cell_type": "code",
   "execution_count": null,
   "id": "b953a0b5",
   "metadata": {},
   "outputs": [],
   "source": [
    "py -m pip --version"
   ]
  },
  {
   "cell_type": "code",
   "execution_count": null,
   "id": "de012c54",
   "metadata": {},
   "outputs": [],
   "source": []
  }
 ],
 "metadata": {
  "kernelspec": {
   "display_name": "Python 3 (ipykernel)",
   "language": "python",
   "name": "python3"
  },
  "language_info": {
   "codemirror_mode": {
    "name": "ipython",
    "version": 3
   },
   "file_extension": ".py",
   "mimetype": "text/x-python",
   "name": "python",
   "nbconvert_exporter": "python",
   "pygments_lexer": "ipython3",
   "version": "3.9.13"
  }
 },
 "nbformat": 4,
 "nbformat_minor": 5
}
